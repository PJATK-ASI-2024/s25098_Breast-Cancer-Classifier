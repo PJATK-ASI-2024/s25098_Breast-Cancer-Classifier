{
 "cells": [
  {
   "cell_type": "code",
   "execution_count": 13,
   "id": "initial_id",
   "metadata": {
    "collapsed": true,
    "ExecuteTime": {
     "end_time": "2025-01-11T01:48:12.443564700Z",
     "start_time": "2025-01-11T01:48:12.424041100Z"
    }
   },
   "outputs": [],
   "source": [
    "import pandas as pd\n",
    "from sklearn.model_selection import train_test_split\n",
    "import kagglehub"
   ]
  },
  {
   "cell_type": "code",
   "execution_count": 14,
   "outputs": [
    {
     "name": "stdout",
     "output_type": "stream",
     "text": [
      "Warning: Looks like you're using an outdated `kagglehub` version (installed: 0.3.5), please consider upgrading to the latest version (0.3.6).\n",
      "Downloading from https://www.kaggle.com/api/v1/datasets/download/reihanenamdari/breast-cancer?dataset_version_number=1...\n"
     ]
    },
    {
     "name": "stderr",
     "output_type": "stream",
     "text": [
      "100%|██████████| 42.8k/42.8k [00:00<00:00, 384kB/s]"
     ]
    },
    {
     "name": "stdout",
     "output_type": "stream",
     "text": [
      "Extracting files...\n"
     ]
    },
    {
     "name": "stderr",
     "output_type": "stream",
     "text": [
      "\n"
     ]
    }
   ],
   "source": [
    "pd.set_option('display.expand_frame_repr', False)\n",
    "\n",
    "path = kagglehub.dataset_download(\"reihanenamdari/breast-cancer\", force_download=True)\n",
    "data = pd.read_csv(f'{path}/Breast_Cancer.csv')"
   ],
   "metadata": {
    "collapsed": false,
    "ExecuteTime": {
     "end_time": "2025-01-11T01:48:13.996234900Z",
     "start_time": "2025-01-11T01:48:12.430567600Z"
    }
   },
   "id": "594ead6e210f7a8e"
  },
  {
   "cell_type": "code",
   "execution_count": 15,
   "outputs": [
    {
     "name": "stdout",
     "output_type": "stream",
     "text": [
      "\n",
      "Shape of the Dataset: (4024, 16)\n",
      "\n",
      "Sample Data:\n",
      "   Age   Race Marital Status T Stage  N Stage 6th Stage              differentiate Grade   A Stage  Tumor Size Estrogen Status Progesterone Status  Regional Node Examined  Reginol Node Positive  Survival Months Status\n",
      "0   68  White        Married       T1      N1       IIA      Poorly differentiated     3  Regional           4        Positive            Positive                      24                      1               60  Alive\n",
      "1   50  White        Married       T2      N2      IIIA  Moderately differentiated     2  Regional          35        Positive            Positive                      14                      5               62  Alive\n",
      "2   58  White       Divorced       T3      N3      IIIC  Moderately differentiated     2  Regional          63        Positive            Positive                      14                      7               75  Alive\n",
      "3   58  White        Married       T1      N1       IIA      Poorly differentiated     3  Regional          18        Positive            Positive                       2                      1               84  Alive\n",
      "4   47  White        Married       T2      N1       IIB      Poorly differentiated     3  Regional          41        Positive            Positive                       3                      1               50  Alive\n",
      "\n",
      "Descriptive Statistics:\n",
      "               Age   Tumor Size  Regional Node Examined  Reginol Node Positive  Survival Months\n",
      "count  4024.000000  4024.000000             4024.000000            4024.000000      4024.000000\n",
      "mean     53.972167    30.473658               14.357107               4.158052        71.297962\n",
      "std       8.963134    21.119696                8.099675               5.109331        22.921430\n",
      "min      30.000000     1.000000                1.000000               1.000000         1.000000\n",
      "25%      47.000000    16.000000                9.000000               1.000000        56.000000\n",
      "50%      54.000000    25.000000               14.000000               2.000000        73.000000\n",
      "75%      61.000000    38.000000               19.000000               5.000000        90.000000\n",
      "max      69.000000   140.000000               61.000000              46.000000       107.000000\n",
      "\n",
      "Dataset Info:\n",
      "<class 'pandas.core.frame.DataFrame'>\n",
      "RangeIndex: 4024 entries, 0 to 4023\n",
      "Data columns (total 16 columns):\n",
      " #   Column                  Non-Null Count  Dtype \n",
      "---  ------                  --------------  ----- \n",
      " 0   Age                     4024 non-null   int64 \n",
      " 1   Race                    4024 non-null   object\n",
      " 2   Marital Status          4024 non-null   object\n",
      " 3   T Stage                 4024 non-null   object\n",
      " 4   N Stage                 4024 non-null   object\n",
      " 5   6th Stage               4024 non-null   object\n",
      " 6   differentiate           4024 non-null   object\n",
      " 7   Grade                   4024 non-null   object\n",
      " 8   A Stage                 4024 non-null   object\n",
      " 9   Tumor Size              4024 non-null   int64 \n",
      " 10  Estrogen Status         4024 non-null   object\n",
      " 11  Progesterone Status     4024 non-null   object\n",
      " 12  Regional Node Examined  4024 non-null   int64 \n",
      " 13  Reginol Node Positive   4024 non-null   int64 \n",
      " 14  Survival Months         4024 non-null   int64 \n",
      " 15  Status                  4024 non-null   object\n",
      "dtypes: int64(5), object(11)\n",
      "memory usage: 503.1+ KB\n"
     ]
    }
   ],
   "source": [
    "print(\"\\nShape of the Dataset:\", data.shape)\n",
    "print(\"\\nSample Data:\")\n",
    "print(data.head())\n",
    "print(\"\\nDescriptive Statistics:\")\n",
    "print(data.describe())\n",
    "print(\"\\nDataset Info:\")\n",
    "data.info()"
   ],
   "metadata": {
    "collapsed": false,
    "ExecuteTime": {
     "end_time": "2025-01-11T01:48:14.069236400Z",
     "start_time": "2025-01-11T01:48:13.988647300Z"
    }
   },
   "id": "7c888172221d781e"
  },
  {
   "cell_type": "code",
   "execution_count": 16,
   "outputs": [
    {
     "name": "stdout",
     "output_type": "stream",
     "text": [
      "Training Data Shape: (2816, 16)\n",
      "Testing Data Shape: (1208, 16)\n"
     ]
    }
   ],
   "source": [
    "train_data, test_data = train_test_split(data, test_size=0.3, random_state=42)\n",
    "print(\"Training Data Shape:\", train_data.shape)\n",
    "print(\"Testing Data Shape:\", test_data.shape)\n",
    "\n",
    "train_data.to_csv(\"data/train_data.csv\", index=False)\n",
    "test_data.to_csv(\"data/test_data.csv\", index=False)"
   ],
   "metadata": {
    "collapsed": false,
    "ExecuteTime": {
     "end_time": "2025-01-11T01:48:14.070234400Z",
     "start_time": "2025-01-11T01:48:14.026235Z"
    }
   },
   "id": "279811a58fa404f"
  }
 ],
 "metadata": {
  "kernelspec": {
   "display_name": "Python 3",
   "language": "python",
   "name": "python3"
  },
  "language_info": {
   "codemirror_mode": {
    "name": "ipython",
    "version": 2
   },
   "file_extension": ".py",
   "mimetype": "text/x-python",
   "name": "python",
   "nbconvert_exporter": "python",
   "pygments_lexer": "ipython2",
   "version": "2.7.6"
  }
 },
 "nbformat": 4,
 "nbformat_minor": 5
}
