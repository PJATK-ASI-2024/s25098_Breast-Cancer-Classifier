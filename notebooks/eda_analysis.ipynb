{
 "cells": [
  {
   "cell_type": "code",
   "execution_count": null,
   "id": "40122b9883f86c0d",
   "metadata": {
    "collapsed": true
   },
   "outputs": [],
   "source": [
    "import pandas as pd\n",
    "from sklearn.model_selection import train_test_split\n",
    "import seaborn as sns\n",
    "import matplotlib.pyplot as plt\n",
    "import numpy as np\n",
    "from ydata_profiling import ProfileReport\n",
    "from sklearn.preprocessing import LabelEncoder\n",
    "from sklearn.ensemble import RandomForestClassifier"
   ]
  },
  {
   "cell_type": "code",
   "execution_count": null,
   "outputs": [],
   "source": [
    "pd.set_option('display.expand_frame_repr', False)\n",
    "data = pd.read_csv('data/Breast_Cancer.csv')\n",
    "\n",
    "print(\"\\nSample Data:\")\n",
    "print(data.head())\n",
    "print(\"\\nDescriptive Statistics:\")\n",
    "print(data.describe())\n",
    "print(\"\\nDataset Info:\")\n",
    "data.info()"
   ],
   "metadata": {
    "collapsed": false
   },
   "id": "b100e48aaa8b45ac"
  },
  {
   "cell_type": "code",
   "execution_count": null,
   "outputs": [],
   "source": [
    "print(\"\\nColumns with Missing Values:\")\n",
    "print(data.isnull().sum())\n",
    "\n",
    "print(\"\\nRows with duplicated values:\", data.duplicated().sum())"
   ],
   "metadata": {
    "collapsed": false
   },
   "id": "f90de06df837073e"
  },
  {
   "cell_type": "code",
   "execution_count": null,
   "outputs": [],
   "source": [
    "print(\"\\nDistribution of numerical variable:\")\n",
    "data.select_dtypes(include=np.number).hist(bins=20, figsize=(15, 10))\n",
    "plt.suptitle('Distribution of numerical variables')\n",
    "plt.show()"
   ],
   "metadata": {
    "collapsed": false
   },
   "id": "f586030f4c0bb677"
  },
  {
   "cell_type": "code",
   "execution_count": null,
   "outputs": [],
   "source": [
    "print(\"\\nDistribution of categorical variable:\")\n",
    "categorical_cols = data.select_dtypes(include=['object']).columns\n",
    "for col in categorical_cols:\n",
    "    plt.figure(figsize=(12, 4))\n",
    "    sns.countplot(data=data, x=col)\n",
    "    plt.title(f'Distribution of categorical variable: {col}')\n",
    "    plt.xticks(rotation=45)\n",
    "    plt.show()"
   ],
   "metadata": {
    "collapsed": false
   },
   "id": "aa816277581fc86c"
  },
  {
   "cell_type": "code",
   "execution_count": null,
   "outputs": [],
   "source": [
    "print(\"\\nBox plots for numeric variables:\")\n",
    "numerical_cols = data.select_dtypes(include=np.number).columns\n",
    "for col in numerical_cols:\n",
    "    plt.figure(figsize=(12, 4))\n",
    "    sns.boxplot(x=data[col])\n",
    "    plt.title(f'Box plot for {col}')\n",
    "    plt.show()"
   ],
   "metadata": {
    "collapsed": false
   },
   "id": "3da8f6485e02e6c0"
  },
  {
   "cell_type": "code",
   "execution_count": null,
   "outputs": [],
   "source": [
    "data_encoded = data.copy()\n",
    "\n",
    "encoder = LabelEncoder()\n",
    "for column in data_encoded.columns:\n",
    "    if data_encoded[column].dtype == 'object':\n",
    "        data_encoded[column] = encoder.fit_transform(data_encoded[column])"
   ],
   "metadata": {
    "collapsed": false
   },
   "id": "dc1fff2ff000831a"
  },
  {
   "cell_type": "code",
   "execution_count": null,
   "outputs": [],
   "source": [
    "print(\"\\nCorrelation matrix:\")\n",
    "correlation_matrix = data_encoded.corr()\n",
    "plt.figure(figsize=(12, 10))\n",
    "sns.heatmap(correlation_matrix, annot=True, cmap='coolwarm', fmt='.2f', linewidths=0.5)\n",
    "plt.title('Correlation matrix')\n",
    "plt.show()"
   ],
   "metadata": {
    "collapsed": false
   },
   "id": "55d6a4fb6c5e4299"
  },
  {
   "cell_type": "code",
   "execution_count": null,
   "outputs": [],
   "source": [
    "X = data_encoded.drop(columns=['Status'])\n",
    "y = data_encoded['Status']\n",
    "\n",
    "model = RandomForestClassifier(random_state=42)\n",
    "model.fit(X, y)\n",
    "\n",
    "importances = pd.Series(model.feature_importances_, index=X.columns)\n",
    "importances_sorted = importances.sort_values(ascending=False)\n",
    "\n",
    "print(\"Features Importance in model:\")\n",
    "for feature, importance in importances_sorted.items():\n",
    "    print(f\"{feature}: {importance:.4f}\")"
   ],
   "metadata": {
    "collapsed": false
   },
   "id": "f9f9ec05ee628985"
  },
  {
   "cell_type": "code",
   "execution_count": null,
   "outputs": [],
   "source": [
    "print(\"\\nGenerating EDA Report\")\n",
    "profile = ProfileReport(data, title=\"EDA Report\", explorative=True)\n",
    "profile.to_file(\"documentation/eda_report.html\")"
   ],
   "metadata": {
    "collapsed": false
   },
   "id": "e2033006a476b3ea"
  },
  {
   "cell_type": "code",
   "execution_count": null,
   "outputs": [],
   "source": [
    "train_data, test_data = train_test_split(data, test_size=0.3, random_state=42)\n",
    "print(\"Training Data Shape:\", train_data.shape)\n",
    "print(\"Testing Data Shape:\", test_data.shape)\n",
    "\n",
    "train_data.to_csv(\"data/train_data.csv\", index=False)\n",
    "test_data.to_csv(\"data/test_data.csv\", index=False)"
   ],
   "metadata": {
    "collapsed": false
   },
   "id": "b78c07e93deeb699"
  }
 ],
 "metadata": {
  "kernelspec": {
   "display_name": "Python 3",
   "language": "python",
   "name": "python3"
  },
  "language_info": {
   "codemirror_mode": {
    "name": "ipython",
    "version": 2
   },
   "file_extension": ".py",
   "mimetype": "text/x-python",
   "name": "python",
   "nbconvert_exporter": "python",
   "pygments_lexer": "ipython2",
   "version": "2.7.6"
  }
 },
 "nbformat": 4,
 "nbformat_minor": 5
}
