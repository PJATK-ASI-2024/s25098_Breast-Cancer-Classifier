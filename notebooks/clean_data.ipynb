{
 "cells": [
  {
   "cell_type": "code",
   "execution_count": 3,
   "id": "initial_id",
   "metadata": {
    "collapsed": true,
    "ExecuteTime": {
     "end_time": "2025-01-12T00:39:37.671022200Z",
     "start_time": "2025-01-12T00:39:37.644028500Z"
    }
   },
   "outputs": [],
   "source": [
    "import pandas as pd"
   ]
  },
  {
   "cell_type": "code",
   "execution_count": 4,
   "outputs": [],
   "source": [
    "data = pd.read_csv('../data/Breast_Cancer.csv')"
   ],
   "metadata": {
    "collapsed": false,
    "ExecuteTime": {
     "end_time": "2025-01-12T00:39:38.275591Z",
     "start_time": "2025-01-12T00:39:38.230232400Z"
    }
   },
   "id": "3721f269df52b1eb"
  },
  {
   "cell_type": "code",
   "execution_count": 5,
   "outputs": [
    {
     "name": "stdout",
     "output_type": "stream",
     "text": [
      "Removed duplicates: 1 rows\n"
     ]
    }
   ],
   "source": [
    "data = data.drop_duplicates()"
   ],
   "metadata": {
    "collapsed": false,
    "ExecuteTime": {
     "end_time": "2025-01-12T00:39:39.078918200Z",
     "start_time": "2025-01-12T00:39:39.049109900Z"
    }
   },
   "id": "16e627baeb3c3c79"
  },
  {
   "cell_type": "code",
   "execution_count": 7,
   "outputs": [],
   "source": [
    "columns_to_check = ['Tumor Size', 'Regional Node Examined', 'Reginol Node Positive']\n",
    "\n",
    "lower_bounds = {}\n",
    "upper_bounds = {}\n",
    "\n",
    "for col in columns_to_check:\n",
    "    Q1 = data[col].quantile(0.25)\n",
    "    Q3 = data[col].quantile(0.75)\n",
    "    IQR = Q3 - Q1\n",
    "    lower_bounds[col] = Q1 - 1.5 * IQR\n",
    "    upper_bounds[col] = Q3 + 1.5 * IQR\n",
    "\n",
    "data_cleaned = data\n",
    "\n",
    "for col in columns_to_check:\n",
    "    data_cleaned = data_cleaned[(data_cleaned[col] >= lower_bounds[col]) & (data_cleaned[col] <= upper_bounds[col])]"
   ],
   "metadata": {
    "collapsed": false,
    "ExecuteTime": {
     "end_time": "2025-01-12T00:41:08.948750600Z",
     "start_time": "2025-01-12T00:41:08.921744200Z"
    }
   },
   "id": "3d101443f514fcc1"
  },
  {
   "cell_type": "code",
   "execution_count": 31,
   "outputs": [],
   "source": [
    "data_cleaned['Grade'] = data_cleaned['Grade'].replace(\" anaplastic; Grade IV\", '4')\n",
    "data_cleaned['Grade'] = pd.to_numeric(data_cleaned['Grade'], errors='coerce')"
   ],
   "metadata": {
    "collapsed": false,
    "ExecuteTime": {
     "end_time": "2025-01-11T01:49:08.529998300Z",
     "start_time": "2025-01-11T01:49:08.504122900Z"
    }
   },
   "id": "c4d634c557d48cda"
  },
  {
   "cell_type": "code",
   "execution_count": 32,
   "outputs": [],
   "source": [
    "data_cleaned = data_cleaned.drop(columns=['A Stage', 'Estrogen Status'])"
   ],
   "metadata": {
    "collapsed": false,
    "ExecuteTime": {
     "end_time": "2025-01-11T01:49:08.530998200Z",
     "start_time": "2025-01-11T01:49:08.515468700Z"
    }
   },
   "id": "b957525c6ed735b1"
  },
  {
   "cell_type": "code",
   "execution_count": 33,
   "outputs": [
    {
     "name": "stdout",
     "output_type": "stream",
     "text": [
      "Oczyszczone dane zostały zapisane do 'cleaned_data.csv'.\n"
     ]
    }
   ],
   "source": [
    "data_cleaned.to_csv('../data/cleaned_data.csv', index=False)\n",
    "print(\"Oczyszczone dane zostały zapisane do 'cleaned_data.csv'.\")"
   ],
   "metadata": {
    "collapsed": false,
    "ExecuteTime": {
     "end_time": "2025-01-11T01:49:08.618995800Z",
     "start_time": "2025-01-11T01:49:08.522994800Z"
    }
   },
   "id": "aed0a914ca0e4685"
  }
 ],
 "metadata": {
  "kernelspec": {
   "display_name": "Python 3",
   "language": "python",
   "name": "python3"
  },
  "language_info": {
   "codemirror_mode": {
    "name": "ipython",
    "version": 2
   },
   "file_extension": ".py",
   "mimetype": "text/x-python",
   "name": "python",
   "nbconvert_exporter": "python",
   "pygments_lexer": "ipython2",
   "version": "2.7.6"
  }
 },
 "nbformat": 4,
 "nbformat_minor": 5
}
