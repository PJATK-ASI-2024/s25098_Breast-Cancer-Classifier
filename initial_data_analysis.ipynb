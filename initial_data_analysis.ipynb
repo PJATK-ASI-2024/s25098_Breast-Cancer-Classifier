{
 "cells": [
  {
   "cell_type": "code",
   "execution_count": 2,
   "id": "initial_id",
   "metadata": {
    "collapsed": true,
    "ExecuteTime": {
     "end_time": "2025-01-09T22:12:24.626221300Z",
     "start_time": "2025-01-09T22:12:21.975773200Z"
    }
   },
   "outputs": [],
   "source": [
    "import pandas as pd\n",
    "from sklearn.model_selection import train_test_split\n",
    "import kagglehub"
   ]
  },
  {
   "cell_type": "code",
   "execution_count": null,
   "outputs": [],
   "source": [
    "pd.set_option('display.expand_frame_repr', False)\n",
    "\n",
    "path = kagglehub.dataset_download(\"reihanenamdari/breast-cancer\", force_download=True)\n",
    "data = pd.read_csv(f'{path}/Breast_Cancer.csv')"
   ],
   "metadata": {
    "collapsed": false
   },
   "id": "594ead6e210f7a8e"
  },
  {
   "cell_type": "code",
   "execution_count": null,
   "outputs": [],
   "source": [
    "print(\"\\nShape of the Dataset:\", data.shape)\n",
    "print(\"\\nSample Data:\")\n",
    "print(data.head())\n",
    "print(\"\\nDescriptive Statistics:\")\n",
    "print(data.describe())\n",
    "print(\"\\nDataset Info:\")\n",
    "data.info()"
   ],
   "metadata": {
    "collapsed": false
   },
   "id": "7c888172221d781e"
  },
  {
   "cell_type": "code",
   "execution_count": 29,
   "outputs": [
    {
     "name": "stdout",
     "output_type": "stream",
     "text": [
      "Training Data Shape: (2816, 16)\n",
      "Testing Data Shape: (1208, 16)\n"
     ]
    }
   ],
   "source": [
    "train_data, test_data = train_test_split(data, test_size=0.3, random_state=42)\n",
    "print(\"Training Data Shape:\", train_data.shape)\n",
    "print(\"Testing Data Shape:\", test_data.shape)\n",
    "\n",
    "train_data.to_csv(\"data/train_data.csv\", index=False)\n",
    "test_data.to_csv(\"data/test_data.csv\", index=False)"
   ],
   "metadata": {
    "collapsed": false,
    "ExecuteTime": {
     "end_time": "2025-01-09T22:32:23.952173200Z",
     "start_time": "2025-01-09T22:32:23.899601800Z"
    }
   },
   "id": "279811a58fa404f"
  }
 ],
 "metadata": {
  "kernelspec": {
   "display_name": "Python 3",
   "language": "python",
   "name": "python3"
  },
  "language_info": {
   "codemirror_mode": {
    "name": "ipython",
    "version": 2
   },
   "file_extension": ".py",
   "mimetype": "text/x-python",
   "name": "python",
   "nbconvert_exporter": "python",
   "pygments_lexer": "ipython2",
   "version": "2.7.6"
  }
 },
 "nbformat": 4,
 "nbformat_minor": 5
}
